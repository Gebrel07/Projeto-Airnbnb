{
 "cells": [
  {
   "cell_type": "markdown",
   "metadata": {
    "id": "uaMdNJXGAf5S"
   },
   "source": [
    "# Projeto Airbnb - Previsão de Preço de Imóveis"
   ]
  },
  {
   "cell_type": "markdown",
   "metadata": {
    "id": "tE9yK2rKAf5j"
   },
   "source": [
    "### Contexto\n",
    "\n",
    "O Airbnb é um aplicativo utilizado para o aluguel de imoveis de vários tipos por diária.\n",
    "\n",
    "Para disponibilizar seus imóveis, os hosts devem descrever suas caracteristicas com o máximo de detalhes possível, de forma que ajude os locadores a escolherem o local que melhor atende suas necessidades.\n",
    "\n",
    "Algumas das características de um imóvel são: preço, quantidade de camas, quartos, tipo de quarto, tipo de cama etc.\n",
    "\n",
    "### Objetivo\n",
    "\n",
    "Criar um modelo de previsão do preço de cada imóvel baseado em suas características. Permitindo que um host ou locador saiba qual o preço adequado para cada local.\n",
    "\n",
    "### Créditos e Referências\n",
    "\n",
    "Base de dados: https://www.kaggle.com/allanbruno/airbnb-rio-de-janeiro\n",
    "\n",
    "Este projeto foi elaborado sob a orienteção do curso Python Impressionador, da Hashtag Treinamentos. <br>\n",
    "Professor: João Lira\n",
    "\n",
    "A solução original foi elaborada por Allan Bruno e publicada no Kaggle no Notebook: https://www.kaggle.com/allanbruno/helping-regular-people-price-listings-on-airbnb\n",
    "\n",
    "\n",
    "- As bases de dados são de abril/2018 a maio/2020\n",
    "- Os dados são do Rio de Janeiro"
   ]
  },
  {
   "cell_type": "markdown",
   "metadata": {
    "id": "H-1mOLKaAf5n"
   },
   "source": [
    "### Importar Bibliotecas\n",
    "\n"
   ]
  },
  {
   "cell_type": "code",
   "execution_count": null,
   "metadata": {
    "colab": {
     "base_uri": "https://localhost:8080/"
    },
    "executionInfo": {
     "elapsed": 53664,
     "status": "ok",
     "timestamp": 1638045614195,
     "user": {
      "displayName": "Gabriel Santos",
      "photoUrl": "https://lh3.googleusercontent.com/a/default-user=s64",
      "userId": "02666169007111202252"
     },
     "user_tz": 180
    },
    "id": "Go6THk9uAf5q",
    "outputId": "04d9eb4a-b499-41ee-ce44-31a82f7a1c09"
   },
   "outputs": [],
   "source": [
    "#importar conexao entre google collab e Drive\n",
    "from google.colab import drive\n",
    "drive.mount('/content/drive')\n",
    "\n",
    "from google.colab import files\n",
    "\n",
    "import pandas as pd\n",
    "import pathlib\n",
    "import numpy as np\n",
    "import seaborn as sns\n",
    "import matplotlib.pyplot as plt\n",
    "import plotly.express as px\n",
    "from sklearn.metrics import r2_score, mean_squared_error\n",
    "from sklearn.linear_model import LinearRegression\n",
    "from sklearn.ensemble import RandomForestRegressor, ExtraTreesRegressor\n",
    "from sklearn.model_selection import train_test_split\n",
    "import joblib"
   ]
  },
  {
   "cell_type": "markdown",
   "metadata": {
    "id": "ASMHXfnwAf5x"
   },
   "source": [
    "### Importar e Consolidar Base de Dados"
   ]
  },
  {
   "cell_type": "code",
   "execution_count": null,
   "metadata": {
    "id": "_UXxoHD-Af5t"
   },
   "outputs": [],
   "source": [
    "#criar dicionario para pegar numero do mes de acordo com o nome do arquivo\n",
    "meses = {'jan': 1, 'fev':2, 'mar':3, 'abr': 4, 'mai':5, 'jun': 6, 'jul': 7, 'ago': 8, 'set': 9, 'out': 10, 'nov': 11, 'dez': 12}\n",
    "\n",
    "#pathlib captura todo o caminho a té a pasta 'dataset' (onde estão todos os arqvs csv) e guarda na variavel\n",
    "caminho_bases = pathlib.Path(r'/content/drive/MyDrive/Hashtag-Python/Projeto 3 - Ciência de Dados - Aplicação de Mercado de Trabalho/Dataset')\n",
    "\n",
    "#criar um dataframe vazio\n",
    "base_airbnb = pd.DataFrame()\n",
    "\n",
    "#itera sobre cada arquivo dentro do diretorio 'dataset'\n",
    "for arquivo in caminho_bases.iterdir():\n",
    "\n",
    "    #pega os caracteres de 0 a 2 do nome do arquivo csv e armazena na variavel\n",
    "    nome_mes = arquivo.name[:3]\n",
    "    #associa os 3 caracteres ao numero do mes correspondente no dicionario\n",
    "    mes = meses[nome_mes]\n",
    "\n",
    "    #pega o final do nome do arquivo\n",
    "    ano = arquivo.name[-8:]\n",
    "    #transforma o final do nome em numero inteiro\n",
    "    #substitui o .csv por nada pra ficar só o ano\n",
    "    ano = int(ano.replace('.csv', ''))\n",
    "\n",
    "    #concatena caminho em 'caminho_bases' com o nome do arquivo iterado\n",
    "    #em seguida usa pd.read para armazenar o arquivo na variavel df como dataframe\n",
    "    df = pd.read_csv(caminho_bases / arquivo.name)\n",
    "\n",
    "    #adiciona colunas mes e ano de acordo com o valor das variaveis\n",
    "    df['ano'] = ano\n",
    "    df['mes'] = mes\n",
    "\n",
    "    #pega o dataframe que está em df e faz append no dataframe base_airbnb\n",
    "    base_airbnb = base_airbnb.append(df)\n",
    "\n",
    "display(base_airbnb)    "
   ]
  },
  {
   "cell_type": "markdown",
   "metadata": {
    "id": "WPEOATn9Af50"
   },
   "source": [
    "### Excluir colunas inuteis"
   ]
  },
  {
   "cell_type": "code",
   "execution_count": null,
   "metadata": {
    "id": "lAq4xmYGS3i9"
   },
   "outputs": [],
   "source": [
    "#exportar o dataframe para vizualizar no excel\n",
    "base_airbnb.head(1000).to_csv('Head_base_airbnb.csv', sep = ';')"
   ]
  },
  {
   "cell_type": "markdown",
   "metadata": {
    "id": "Jo1Q6GZ4k-JK"
   },
   "source": [
    "### Colunas que ficam:"
   ]
  },
  {
   "cell_type": "code",
   "execution_count": null,
   "metadata": {
    "id": "vRrprgyPAf51"
   },
   "outputs": [],
   "source": [
    "#criar uma lista com os nomes das colunas\n",
    "colunas = ['host_response_time','host_response_rate','host_is_superhost','host_listings_count','latitude','longitude','property_type','room_type','accommodates','bathrooms','bedrooms','beds','bed_type','amenities','price','security_deposit','cleaning_fee','guests_included','extra_people','minimum_nights','maximum_nights','number_of_reviews','review_scores_rating','review_scores_accuracy','review_scores_cleanliness','review_scores_checkin','review_scores_communication','review_scores_location','review_scores_value','instant_bookable','is_business_travel_ready','cancellation_policy','ano','mes']\n",
    "\n",
    "#filtrar o dataframe com apenas as colunas da lista\n",
    "base_airbnb = base_airbnb.loc[:, colunas]\n",
    "display(base_airbnb)\n"
   ]
  },
  {
   "cell_type": "markdown",
   "metadata": {
    "id": "moAT47PeAf52"
   },
   "source": [
    "### Tratar Valores Faltando"
   ]
  },
  {
   "cell_type": "code",
   "execution_count": null,
   "metadata": {
    "colab": {
     "base_uri": "https://localhost:8080/"
    },
    "executionInfo": {
     "elapsed": 312,
     "status": "ok",
     "timestamp": 1638046868744,
     "user": {
      "displayName": "Gabriel Santos",
      "photoUrl": "https://lh3.googleusercontent.com/a/default-user=s64",
      "userId": "02666169007111202252"
     },
     "user_tz": 180
    },
    "id": "qdv-dvnyAf53",
    "outputId": "38e2091c-b597-4197-e83d-2671a8ec3080"
   },
   "outputs": [],
   "source": [
    "# ver valores vazios no df\n",
    "print(base_airbnb.isnull().sum())\n",
    "\n",
    "# ou ver resumo dos dados de cada coluna\n",
    "\n",
    "#base_airbnb.info()"
   ]
  },
  {
   "cell_type": "markdown",
   "metadata": {
    "id": "CertcSgypFef"
   },
   "source": [
    "#### Decisões\n",
    "\n",
    "- Excluir colunas com mais de 300 mil valores null\n",
    "  - neste caso, não será possivel preencher os valores com estimativas\n",
    "- Nas colunas restantes, excluir as linhas que contém dados null"
   ]
  },
  {
   "cell_type": "code",
   "execution_count": null,
   "metadata": {
    "colab": {
     "base_uri": "https://localhost:8080/"
    },
    "executionInfo": {
     "elapsed": 3967,
     "status": "ok",
     "timestamp": 1638046872696,
     "user": {
      "displayName": "Gabriel Santos",
      "photoUrl": "https://lh3.googleusercontent.com/a/default-user=s64",
      "userId": "02666169007111202252"
     },
     "user_tz": 180
    },
    "id": "Q6FBZJImpdkh",
    "outputId": "ed9f3d44-0af3-49f4-da20-8515bc8f40c8"
   },
   "outputs": [],
   "source": [
    "# remover colunas\n",
    "for coluna in base_airbnb:\n",
    "  if base_airbnb[coluna].isnull().sum() > 300000:\n",
    "    base_airbnb = base_airbnb.drop(coluna, axis = 1)\n",
    "\n",
    "# remover linhas\n",
    "base_airbnb = base_airbnb.dropna()\n",
    "\n",
    "print(base_airbnb.isnull().sum())\n",
    "\n",
    "# ou para ver o total de (linhas, colunas)\n",
    "print(base_airbnb.shape)"
   ]
  },
  {
   "cell_type": "markdown",
   "metadata": {
    "id": "WFROQQFKAf54"
   },
   "source": [
    "### Verificar Tipos de Dados em cada coluna"
   ]
  },
  {
   "cell_type": "code",
   "execution_count": null,
   "metadata": {
    "colab": {
     "base_uri": "https://localhost:8080/"
    },
    "executionInfo": {
     "elapsed": 14,
     "status": "ok",
     "timestamp": 1638046875885,
     "user": {
      "displayName": "Gabriel Santos",
      "photoUrl": "https://lh3.googleusercontent.com/a/default-user=s64",
      "userId": "02666169007111202252"
     },
     "user_tz": 180
    },
    "id": "aBdG1uUbAf55",
    "outputId": "b68a051b-80cc-48a6-a6bb-906e494691d0"
   },
   "outputs": [],
   "source": [
    "# exibir os data types das colunas do df\n",
    "print(base_airbnb.dtypes)\n",
    "print('-'*60)\n",
    "# printar a primeira linha do df pra poder verificar oq está lá\n",
    "print(base_airbnb.iloc[0])"
   ]
  },
  {
   "cell_type": "markdown",
   "metadata": {
    "id": "tHkS886UudwB"
   },
   "source": [
    "#### Mudar\n",
    "- price para float\n",
    "- extra people para float"
   ]
  },
  {
   "cell_type": "code",
   "execution_count": null,
   "metadata": {
    "colab": {
     "base_uri": "https://localhost:8080/"
    },
    "executionInfo": {
     "elapsed": 3614,
     "status": "ok",
     "timestamp": 1638046879491,
     "user": {
      "displayName": "Gabriel Santos",
      "photoUrl": "https://lh3.googleusercontent.com/a/default-user=s64",
      "userId": "02666169007111202252"
     },
     "user_tz": 180
    },
    "id": "kyRAbkpCu48W",
    "outputId": "9d11dc79-7a25-450b-d58a-38cec92fb56d"
   },
   "outputs": [],
   "source": [
    "#price\n",
    "# substiruir $ por nada\n",
    "base_airbnb['price'] = base_airbnb['price'].str.replace('$', '')\n",
    "#substituir virgula por nada\n",
    "base_airbnb['price'] = base_airbnb['price'].str.replace(',', '')\n",
    "#transformar em float 32 usando numpy (float 32 é mais leve)\n",
    "base_airbnb['price'] = base_airbnb['price'].astype(np.float32, copy = False)\n",
    "\n",
    "#extra people\n",
    "base_airbnb['extra_people'] = base_airbnb['extra_people'].str.replace('$', '')\n",
    "base_airbnb['extra_people'] = base_airbnb['extra_people'].str.replace(',', '')\n",
    "base_airbnb['extra_people'] = base_airbnb['extra_people'].astype(np.float32, copy = False)\n",
    "\n",
    "# verificar\n",
    "print(base_airbnb.dtypes)"
   ]
  },
  {
   "cell_type": "markdown",
   "metadata": {
    "id": "u-EFQKflAf55"
   },
   "source": [
    "### Análise Exploratória e Tratar Outliers"
   ]
  },
  {
   "cell_type": "code",
   "execution_count": null,
   "metadata": {
    "colab": {
     "base_uri": "https://localhost:8080/",
     "height": 698
    },
    "executionInfo": {
     "elapsed": 2387,
     "status": "ok",
     "timestamp": 1638046506257,
     "user": {
      "displayName": "Gabriel Santos",
      "photoUrl": "https://lh3.googleusercontent.com/a/default-user=s64",
      "userId": "02666169007111202252"
     },
     "user_tz": 180
    },
    "id": "68t9sq7cAf56",
    "outputId": "c1327330-ee1e-4eba-9fa6-f08eb76861dd"
   },
   "outputs": [],
   "source": [
    "#mostrar correlacao entre colunas\n",
    "#display(base_airbnb.corr())\n",
    "\n",
    "plt.figure(figsize=(15, 10))\n",
    "sns.heatmap(base_airbnb.corr(), annot=True, cmap='Blues')"
   ]
  },
  {
   "cell_type": "markdown",
   "metadata": {
    "id": "DEdnZOUPFM3y"
   },
   "source": [
    "#### Definição de Funções para analise de Outliers"
   ]
  },
  {
   "cell_type": "code",
   "execution_count": null,
   "metadata": {
    "id": "35dGLq23FVHV"
   },
   "outputs": [],
   "source": [
    "def limites(coluna):\n",
    "  q1 = coluna.quantile(0.25)\n",
    "  q3 = coluna.quantile(0.75)\n",
    "  amplitude = q3 - q1\n",
    "  return q1 - 1.5 * amplitude, q3 + 1.5 * amplitude"
   ]
  },
  {
   "cell_type": "code",
   "execution_count": null,
   "metadata": {
    "colab": {
     "base_uri": "https://localhost:8080/"
    },
    "executionInfo": {
     "elapsed": 11,
     "status": "ok",
     "timestamp": 1638046512861,
     "user": {
      "displayName": "Gabriel Santos",
      "photoUrl": "https://lh3.googleusercontent.com/a/default-user=s64",
      "userId": "02666169007111202252"
     },
     "user_tz": 180
    },
    "id": "9z1Oj7dNHfn3",
    "outputId": "5d28b893-74e1-491d-8335-d89cf2831771"
   },
   "outputs": [],
   "source": [
    "#conferir a funcao\n",
    "print(limites(base_airbnb['price']))\n",
    "\n",
    "\n",
    "base_airbnb['price'].describe()"
   ]
  },
  {
   "cell_type": "markdown",
   "metadata": {
    "id": "7rZ1VD1vL73M"
   },
   "source": [
    "#### Funções para analisar outliers das colunas em graficos"
   ]
  },
  {
   "cell_type": "code",
   "execution_count": null,
   "metadata": {
    "id": "F2P87cmpMFfg"
   },
   "outputs": [],
   "source": [
    "def diagrama_caixa(coluna):\n",
    "  # ax1 eixo do primeiro grafico, ax2 do segundo\n",
    "  fig, (ax1, ax2) = plt.subplots(1, 2)\n",
    "  fig.set_size_inches(15, 5)\n",
    "  # primeiro grafico pega o eixo 1\n",
    "  sns.boxplot(x=coluna, ax=ax1)\n",
    "  # faz o limite do eixo ser igual ao limite superior da coluna\n",
    "  ax2.set_xlim(limites(coluna))\n",
    "  #segundo grafico pega o eixo 2\n",
    "  sns.boxplot(x=coluna, ax=ax2)\n",
    "\n",
    "def histograma(coluna):\n",
    "  plt.figure(figsize=(15, 5))\n",
    "  sns.distplot(coluna, hist=True)\n",
    "\n",
    "def grafico_barra(coluna):\n",
    "  plt.figure(figsize=(15, 5))\n",
    "  ax = sns.barplot(x=coluna.value_counts().index, y=coluna.value_counts())\n",
    "  ax.set_xlim(limites(coluna))"
   ]
  },
  {
   "cell_type": "markdown",
   "metadata": {
    "id": "ZjxpAXv_hzsv"
   },
   "source": [
    "Coluna Price"
   ]
  },
  {
   "cell_type": "code",
   "execution_count": null,
   "metadata": {
    "colab": {
     "base_uri": "https://localhost:8080/",
     "height": 740
    },
    "executionInfo": {
     "elapsed": 7194,
     "status": "ok",
     "timestamp": 1638046899320,
     "user": {
      "displayName": "Gabriel Santos",
      "photoUrl": "https://lh3.googleusercontent.com/a/default-user=s64",
      "userId": "02666169007111202252"
     },
     "user_tz": 180
    },
    "id": "up387E0rMx5v",
    "outputId": "e45c72a9-5e6b-4d9b-e72b-d47458b96e18"
   },
   "outputs": [],
   "source": [
    "diagrama_caixa(base_airbnb['price'])\n",
    "histograma(base_airbnb['price'])"
   ]
  },
  {
   "cell_type": "code",
   "execution_count": null,
   "metadata": {
    "id": "v3HPRCfGSnuG"
   },
   "outputs": [],
   "source": [
    "#excluir outliers\n",
    "def excluir_outliers(df, nome_coluna):\n",
    "  qte_linhas = df.shape[0]\n",
    "  lim_inf, lim_sup = limites(df[nome_coluna])\n",
    "  df = df.loc[(df[nome_coluna] >= lim_inf) & (df[nome_coluna] <= lim_sup),   :]\n",
    "  linhas_remov = qte_linhas - df.shape[0]\n",
    "  return df, linhas_remov"
   ]
  },
  {
   "cell_type": "code",
   "execution_count": null,
   "metadata": {
    "colab": {
     "base_uri": "https://localhost:8080/"
    },
    "executionInfo": {
     "elapsed": 261,
     "status": "ok",
     "timestamp": 1638046942827,
     "user": {
      "displayName": "Gabriel Santos",
      "photoUrl": "https://lh3.googleusercontent.com/a/default-user=s64",
      "userId": "02666169007111202252"
     },
     "user_tz": 180
    },
    "id": "LKzYmmhZW0ov",
    "outputId": "d0b6b7af-0273-415d-cbeb-3d06fd155ee0"
   },
   "outputs": [],
   "source": [
    "base_airbnb, linhas_removidas = excluir_outliers(base_airbnb, 'price')\n",
    "print(f'{linhas_removidas} linhas removidas na coluna')"
   ]
  },
  {
   "cell_type": "code",
   "execution_count": null,
   "metadata": {
    "colab": {
     "base_uri": "https://localhost:8080/",
     "height": 740
    },
    "executionInfo": {
     "elapsed": 6707,
     "status": "ok",
     "timestamp": 1638046951680,
     "user": {
      "displayName": "Gabriel Santos",
      "photoUrl": "https://lh3.googleusercontent.com/a/default-user=s64",
      "userId": "02666169007111202252"
     },
     "user_tz": 180
    },
    "id": "VmzbrOmXgLQQ",
    "outputId": "c42589db-e4c5-4227-826a-125074c0e505"
   },
   "outputs": [],
   "source": [
    "histograma(base_airbnb['price'])\n",
    "diagrama_caixa(base_airbnb['price'])"
   ]
  },
  {
   "cell_type": "markdown",
   "metadata": {
    "id": "mhGVOCr_iI1_"
   },
   "source": [
    "Coluna Extra people"
   ]
  },
  {
   "cell_type": "code",
   "execution_count": null,
   "metadata": {
    "id": "llNmEBOKiLcR"
   },
   "outputs": [],
   "source": [
    "diagrama_caixa(base_airbnb['extra_people'])\n",
    "histograma(base_airbnb['extra_people'])"
   ]
  },
  {
   "cell_type": "code",
   "execution_count": null,
   "metadata": {
    "colab": {
     "base_uri": "https://localhost:8080/"
    },
    "executionInfo": {
     "elapsed": 659,
     "status": "ok",
     "timestamp": 1638045833734,
     "user": {
      "displayName": "Gabriel Santos",
      "photoUrl": "https://lh3.googleusercontent.com/a/default-user=s64",
      "userId": "02666169007111202252"
     },
     "user_tz": 180
    },
    "id": "iyQ1zYvFjPEa",
    "outputId": "7bb46d6e-08b6-4e89-b2d8-7bded9288d5d"
   },
   "outputs": [],
   "source": [
    "base_airbnb, linhas_removidas = excluir_outliers(base_airbnb, 'extra_people')\n",
    "print(f'{linhas_removidas} linhas removidas na coluna')"
   ]
  },
  {
   "cell_type": "code",
   "execution_count": null,
   "metadata": {
    "id": "mCigdLVQjXBp"
   },
   "outputs": [],
   "source": [
    "diagrama_caixa(base_airbnb['extra_people'])\n",
    "histograma(base_airbnb['extra_people'])"
   ]
  },
  {
   "cell_type": "markdown",
   "metadata": {
    "id": "DErwKufBjmWZ"
   },
   "source": [
    "Coluna host_listings_count\n",
    "\n"
   ]
  },
  {
   "cell_type": "code",
   "execution_count": null,
   "metadata": {
    "id": "qyZ0fILpk7XP"
   },
   "outputs": [],
   "source": [
    "diagrama_caixa(base_airbnb['host_listings_count'])\n",
    "grafico_barra(base_airbnb['host_listings_count'])"
   ]
  },
  {
   "cell_type": "code",
   "execution_count": null,
   "metadata": {
    "id": "O3TewGz2oHag"
   },
   "outputs": [],
   "source": [
    "base_airbnb, linhas_removidas = excluir_outliers(base_airbnb, 'host_listings_count')\n",
    "print(f'{linhas_removidas} linhas removidas na coluna')"
   ]
  },
  {
   "cell_type": "markdown",
   "metadata": {
    "id": "67BY91lXosgM"
   },
   "source": [
    "Coluna accomodates"
   ]
  },
  {
   "cell_type": "code",
   "execution_count": null,
   "metadata": {
    "id": "Cia_33Z2ovAX"
   },
   "outputs": [],
   "source": [
    "diagrama_caixa(base_airbnb['accommodates'])\n",
    "grafico_barra(base_airbnb['accommodates'])"
   ]
  },
  {
   "cell_type": "code",
   "execution_count": null,
   "metadata": {
    "id": "sh84vMj6pAh0"
   },
   "outputs": [],
   "source": [
    "base_airbnb, linhas_removidas = excluir_outliers(base_airbnb, 'accommodates')\n",
    "print(f'{linhas_removidas} linhas removidas na coluna')"
   ]
  },
  {
   "cell_type": "markdown",
   "metadata": {
    "id": "ElvRjO3FpNbl"
   },
   "source": [
    "Coluna bathrooms"
   ]
  },
  {
   "cell_type": "code",
   "execution_count": null,
   "metadata": {
    "id": "F2EduW3HpPa9"
   },
   "outputs": [],
   "source": [
    "diagrama_caixa(base_airbnb['bathrooms'])\n",
    "grafico_barra(base_airbnb['bathrooms'])"
   ]
  },
  {
   "cell_type": "code",
   "execution_count": null,
   "metadata": {
    "id": "W2amaK9up2Dp"
   },
   "outputs": [],
   "source": [
    "base_airbnb, linhas_removidas = excluir_outliers(base_airbnb, 'bathrooms')\n",
    "print(f'{linhas_removidas} linhas removidas na coluna')"
   ]
  },
  {
   "cell_type": "markdown",
   "metadata": {
    "id": "7eZX4M6uqJ1S"
   },
   "source": [
    "Coluna Bedrooms"
   ]
  },
  {
   "cell_type": "code",
   "execution_count": null,
   "metadata": {
    "id": "BFckX2kiqLmw"
   },
   "outputs": [],
   "source": [
    "diagrama_caixa(base_airbnb['bedrooms'])\n",
    "grafico_barra(base_airbnb['bedrooms'])"
   ]
  },
  {
   "cell_type": "code",
   "execution_count": null,
   "metadata": {
    "colab": {
     "base_uri": "https://localhost:8080/"
    },
    "executionInfo": {
     "elapsed": 8,
     "status": "ok",
     "timestamp": 1638045844398,
     "user": {
      "displayName": "Gabriel Santos",
      "photoUrl": "https://lh3.googleusercontent.com/a/default-user=s64",
      "userId": "02666169007111202252"
     },
     "user_tz": 180
    },
    "id": "BItEpIZ-qS_G",
    "outputId": "477c9ecd-f73c-42b5-b760-723686589376"
   },
   "outputs": [],
   "source": [
    "base_airbnb, linhas_removidas = excluir_outliers(base_airbnb, 'bedrooms')\n",
    "print(f'{linhas_removidas} linhas removidas na coluna')"
   ]
  },
  {
   "cell_type": "markdown",
   "metadata": {
    "id": "-iv44ZNwqA-_"
   },
   "source": [
    "Coluna Beds"
   ]
  },
  {
   "cell_type": "code",
   "execution_count": null,
   "metadata": {
    "id": "eWZEPrJCqD58"
   },
   "outputs": [],
   "source": [
    "diagrama_caixa(base_airbnb['beds'])\n",
    "grafico_barra(base_airbnb['beds'])"
   ]
  },
  {
   "cell_type": "code",
   "execution_count": null,
   "metadata": {
    "id": "2FLNej9EqtU4"
   },
   "outputs": [],
   "source": [
    "base_airbnb, linhas_removidas = excluir_outliers(base_airbnb, 'beds')\n",
    "print(f'{linhas_removidas} linhas removidas na coluna')"
   ]
  },
  {
   "cell_type": "markdown",
   "metadata": {
    "id": "4U2DR99tq-By"
   },
   "source": [
    "Coluna Guests included\n",
    "\n",
    "Atenção: coluna removida devido a preenchimento incorreto.\n",
    "\n",
    "Há um excesso de numeros 1 na coluna que irá atrapalhar o modelo "
   ]
  },
  {
   "cell_type": "code",
   "execution_count": null,
   "metadata": {
    "colab": {
     "base_uri": "https://localhost:8080/"
    },
    "executionInfo": {
     "elapsed": 1413,
     "status": "ok",
     "timestamp": 1638045846760,
     "user": {
      "displayName": "Gabriel Santos",
      "photoUrl": "https://lh3.googleusercontent.com/a/default-user=s64",
      "userId": "02666169007111202252"
     },
     "user_tz": 180
    },
    "id": "O5y0IN_gq8yM",
    "outputId": "1845100e-279e-4199-e95e-bcae855185c3"
   },
   "outputs": [],
   "source": [
    "diagrama_caixa(base_airbnb['guests_included'])\n",
    "grafico_barra(base_airbnb['guests_included'])"
   ]
  },
  {
   "cell_type": "code",
   "execution_count": null,
   "metadata": {
    "id": "utpSBlU9q9cz"
   },
   "outputs": [],
   "source": [
    "base_airbnb = base_airbnb.drop('guests_included', axis=1)"
   ]
  },
  {
   "cell_type": "markdown",
   "metadata": {
    "id": "t3us7Uc4shyP"
   },
   "source": [
    "Coluna min nights"
   ]
  },
  {
   "cell_type": "code",
   "execution_count": null,
   "metadata": {
    "id": "7D4B6l0Gs3d4"
   },
   "outputs": [],
   "source": [
    "diagrama_caixa(base_airbnb['minimum_nights'])\n",
    "grafico_barra(base_airbnb['minimum_nights'])"
   ]
  },
  {
   "cell_type": "code",
   "execution_count": null,
   "metadata": {
    "colab": {
     "base_uri": "https://localhost:8080/"
    },
    "executionInfo": {
     "elapsed": 308,
     "status": "ok",
     "timestamp": 1638045848313,
     "user": {
      "displayName": "Gabriel Santos",
      "photoUrl": "https://lh3.googleusercontent.com/a/default-user=s64",
      "userId": "02666169007111202252"
     },
     "user_tz": 180
    },
    "id": "ovzohEmes4SK",
    "outputId": "d858768a-8955-4b61-86b1-ec5167b4ab3a"
   },
   "outputs": [],
   "source": [
    "base_airbnb, linhas_removidas = excluir_outliers(base_airbnb, 'minimum_nights')\n",
    "print(f'{linhas_removidas} linhas removidas na coluna')"
   ]
  },
  {
   "cell_type": "markdown",
   "metadata": {
    "id": "QtOlAZbls1hq"
   },
   "source": [
    "Coluna max nights\n",
    "\n",
    "Coluna removida da analise\n",
    "\n",
    "Preenchimento com numeros exagerados indica que a maioria dos dados foi preenchida errado ou muito alta para indicar numero estadia infinita no maximo de dias alugados\n",
    "\n"
   ]
  },
  {
   "cell_type": "code",
   "execution_count": null,
   "metadata": {
    "id": "8Ri5ne6CtcZU"
   },
   "outputs": [],
   "source": [
    "base_airbnb = base_airbnb.drop('maximum_nights', axis=1)"
   ]
  },
  {
   "cell_type": "markdown",
   "metadata": {
    "id": "7dg14tKyuq-U"
   },
   "source": [
    "Coluna number of reviews\n",
    "\n",
    "coluna removida: o numero de reviews não segue uma lógica muito forte em relação ao preço do imovel. Além disso o modelo deve ser capaz de avaliar o preço mesmo se o host tiver zero ou varias reviews"
   ]
  },
  {
   "cell_type": "code",
   "execution_count": null,
   "metadata": {
    "colab": {
     "base_uri": "https://localhost:8080/"
    },
    "executionInfo": {
     "elapsed": 3033,
     "status": "ok",
     "timestamp": 1638045851344,
     "user": {
      "displayName": "Gabriel Santos",
      "photoUrl": "https://lh3.googleusercontent.com/a/default-user=s64",
      "userId": "02666169007111202252"
     },
     "user_tz": 180
    },
    "id": "_eqifCIEuwRu",
    "outputId": "061a0108-4835-4ee9-986c-c054ef5b1f36"
   },
   "outputs": [],
   "source": [
    "diagrama_caixa(base_airbnb['number_of_reviews'])\n",
    "grafico_barra(base_airbnb['number_of_reviews'])"
   ]
  },
  {
   "cell_type": "code",
   "execution_count": null,
   "metadata": {
    "id": "kz51rr0ZuxAQ"
   },
   "outputs": [],
   "source": [
    "base_airbnb = base_airbnb.drop('number_of_reviews', axis=1)"
   ]
  },
  {
   "cell_type": "markdown",
   "metadata": {
    "id": "4u3BPz8my2pp"
   },
   "source": [
    "Tratamento colunas de texto"
   ]
  },
  {
   "cell_type": "markdown",
   "metadata": {
    "id": "yelofCcxzmd1"
   },
   "source": [
    "Property type"
   ]
  },
  {
   "cell_type": "code",
   "execution_count": null,
   "metadata": {
    "colab": {
     "base_uri": "https://localhost:8080/",
     "height": 512
    },
    "executionInfo": {
     "elapsed": 1582,
     "status": "ok",
     "timestamp": 1638047224127,
     "user": {
      "displayName": "Gabriel Santos",
      "photoUrl": "https://lh3.googleusercontent.com/a/default-user=s64",
      "userId": "02666169007111202252"
     },
     "user_tz": 180
    },
    "id": "kW5VX2gRzoom",
    "outputId": "b0cb7e44-3863-4794-ce4e-2f451d2d81cd"
   },
   "outputs": [],
   "source": [
    "plt.figure(figsize=(15, 5))\n",
    "\n",
    "grafico = sns.countplot('property_type', data=base_airbnb)\n",
    "\n",
    "grafico.tick_params(axis='x', rotation=90)"
   ]
  },
  {
   "cell_type": "markdown",
   "metadata": {
    "id": "-Mz2x6xD2FE2"
   },
   "source": [
    "Para simplificar a identificação dos tipos de casa, as categorias que tem menos de 2000 valores serão colocadas no grupo outros"
   ]
  },
  {
   "cell_type": "code",
   "execution_count": null,
   "metadata": {
    "colab": {
     "base_uri": "https://localhost:8080/"
    },
    "executionInfo": {
     "elapsed": 3145,
     "status": "ok",
     "timestamp": 1638047216412,
     "user": {
      "displayName": "Gabriel Santos",
      "photoUrl": "https://lh3.googleusercontent.com/a/default-user=s64",
      "userId": "02666169007111202252"
     },
     "user_tz": 180
    },
    "id": "PEuS26iX1M3Y",
    "outputId": "8e8c19f1-a5b7-4969-e360-b367d07b91c1"
   },
   "outputs": [],
   "source": [
    "tabela_tipos_casa = base_airbnb['property_type'].value_counts()\n",
    "grupo_outros = []\n",
    "\n",
    "#agrupar tipos de propriedade\n",
    "\n",
    "for i in tabela_tipos_casa.index:\n",
    "  if tabela_tipos_casa[i] < 2000:\n",
    "    grupo_outros.append(i)\n",
    "\n",
    "for i in grupo_outros:\n",
    "  base_airbnb.loc[base_airbnb['property_type']==i, 'property_type'] = \"Outros\"\n",
    "\n",
    "print(base_airbnb['property_type'].value_counts())"
   ]
  },
  {
   "cell_type": "markdown",
   "metadata": {
    "id": "KXzeLk0LByo6"
   },
   "source": [
    "Colunas room type e bed type estão simples e bem categorizadas. Não serão modificadas\n",
    "\n",
    "bed type foi agrupada no gabarito final (nao agrupei)"
   ]
  },
  {
   "cell_type": "markdown",
   "metadata": {
    "id": "dGb8g9-jDcyW"
   },
   "source": [
    "Coluna cancelation policy"
   ]
  },
  {
   "cell_type": "code",
   "execution_count": null,
   "metadata": {
    "colab": {
     "base_uri": "https://localhost:8080/"
    },
    "executionInfo": {
     "elapsed": 260,
     "status": "ok",
     "timestamp": 1638045854330,
     "user": {
      "displayName": "Gabriel Santos",
      "photoUrl": "https://lh3.googleusercontent.com/a/default-user=s64",
      "userId": "02666169007111202252"
     },
     "user_tz": 180
    },
    "id": "dJlNoTv8B1nE",
    "outputId": "9dfeab5e-073c-43f4-885e-7083a6f32696"
   },
   "outputs": [],
   "source": [
    "tabela_cancellation= base_airbnb['cancellation_policy'].value_counts()\n",
    "grupo_strict = []\n",
    "\n",
    "#agrupar tipos estritos\n",
    "for i in tabela_cancellation.index:\n",
    "  if tabela_cancellation[i] < 10000:\n",
    "    grupo_strict.append(i)\n",
    "\n",
    "for i in grupo_strict:\n",
    "  base_airbnb.loc[base_airbnb['cancellation_policy']==i, 'cancellation_policy'] = \"Strict\"\n",
    "\n",
    "print(base_airbnb['cancellation_policy'].value_counts())"
   ]
  },
  {
   "cell_type": "markdown",
   "metadata": {
    "id": "Hk8Hx6QhFrwz"
   },
   "source": [
    "Coluna ammenities\n",
    "\n",
    "Essa coluna é preenchida com texto livre e não segue um padrão, portanto não é viável separar seus valores em categorias. <br>\n",
    "Para este caso, será adicionada uma coluna que indica a quantidade de amenities de cada local. Considerando que, essa quantidade pode ser um influenciador na definição do preço do imovel"
   ]
  },
  {
   "cell_type": "code",
   "execution_count": null,
   "metadata": {
    "id": "gJDstRK4Iz8j"
   },
   "outputs": [],
   "source": [
    "#criar coluna nova qtd amenities\n",
    "\n",
    "base_airbnb['qtd_amenities'] = base_airbnb['amenities'].str.split(',').apply(len)\n",
    "\n",
    "#excluir a coluna amenities (não é mais util)\n",
    "base_airbnb = base_airbnb.drop('amenities', axis=1)"
   ]
  },
  {
   "cell_type": "code",
   "execution_count": null,
   "metadata": {
    "id": "f3c8TFwPKnLT"
   },
   "outputs": [],
   "source": [
    "diagrama_caixa(base_airbnb['qtd_amenities'])\n",
    "grafico_barra(base_airbnb['qtd_amenities'])"
   ]
  },
  {
   "cell_type": "code",
   "execution_count": null,
   "metadata": {
    "colab": {
     "base_uri": "https://localhost:8080/"
    },
    "executionInfo": {
     "elapsed": 5,
     "status": "ok",
     "timestamp": 1638045860697,
     "user": {
      "displayName": "Gabriel Santos",
      "photoUrl": "https://lh3.googleusercontent.com/a/default-user=s64",
      "userId": "02666169007111202252"
     },
     "user_tz": 180
    },
    "id": "8Z158_uULimi",
    "outputId": "dc0dd3ba-dc17-41f8-a243-75864a101874"
   },
   "outputs": [],
   "source": [
    "base_airbnb, linhas_removidas = excluir_outliers(base_airbnb, 'qtd_amenities')\n",
    "print(f'{linhas_removidas} linhas removidas na coluna')"
   ]
  },
  {
   "cell_type": "markdown",
   "metadata": {
    "id": "OjGv0OGbMtZE"
   },
   "source": [
    "Mapa dos imoveis"
   ]
  },
  {
   "cell_type": "code",
   "execution_count": null,
   "metadata": {
    "colab": {
     "base_uri": "https://localhost:8080/"
    },
    "executionInfo": {
     "elapsed": 20355,
     "status": "ok",
     "timestamp": 1638045885891,
     "user": {
      "displayName": "Gabriel Santos",
      "photoUrl": "https://lh3.googleusercontent.com/a/default-user=s64",
      "userId": "02666169007111202252"
     },
     "user_tz": 180
    },
    "id": "cuX9I0dfMx8c",
    "outputId": "e8fb4b98-fd8d-4915-cf21-2a5fe9c96b3e"
   },
   "outputs": [],
   "source": [
    "#extrair uma amostra do df para que a visualização seja melhor e o mapa mais leve\n",
    "amostra = base_airbnb.sample(n=10000)\n",
    "#definir onde será o centro na hora que o mapa abrir (tira a media de lat e lon das colunas do df)\n",
    "centro_mapa = {'lat': amostra.latitude.mean(),'lon': amostra.longitude.mean()}\n",
    "\n",
    "fig = px.density_mapbox(data_frame=amostra, lat='latitude', lon='longitude', z='price', radius=2.5,\n",
    "                        center=centro_mapa, zoom=10,mapbox_style='open-street-map')\n",
    "\n",
    "fig.show()"
   ]
  },
  {
   "cell_type": "markdown",
   "metadata": {
    "id": "eDuHO-mUAf57"
   },
   "source": [
    "### Encoding"
   ]
  },
  {
   "cell_type": "code",
   "execution_count": null,
   "metadata": {
    "id": "qknYBmhdAf57"
   },
   "outputs": [],
   "source": [
    "print(base_airbnb.iloc[0])"
   ]
  },
  {
   "cell_type": "code",
   "execution_count": null,
   "metadata": {
    "id": "Hm644xcqqU7O"
   },
   "outputs": [],
   "source": [
    "#criar lista de colunas booleanas\n",
    "colunas_tf = ['host_is_superhost', 'instant_bookable', 'is_business_travel_ready']\n",
    "\n",
    "#criar df novo que será convertido\n",
    "base_airbnb_encoded = base_airbnb.copy()\n",
    "\n",
    "#iterar sobre cada item de colunas_tf e transformar os valores de cada coluna correspondente em 0 e 1\n",
    "for i in colunas_tf:\n",
    "  base_airbnb_encoded.loc[base_airbnb_encoded[i] == 't', i] = 1\n",
    "  base_airbnb_encoded.loc[base_airbnb_encoded[i] == 'f', i] = 0\n",
    "\n",
    "#print(base_airbnb_encoded.iloc[0])"
   ]
  },
  {
   "cell_type": "code",
   "execution_count": null,
   "metadata": {
    "id": "ApnAp8EIrNi0"
   },
   "outputs": [],
   "source": [
    "#criar lista de colunas de categoria\n",
    "colunas_cat = ['property_type', 'room_type', 'bed_type', 'cancellation_policy']\n",
    "\n",
    "\n",
    "base_airbnb_encoded = pd.get_dummies(data=base_airbnb_encoded, columns=colunas_cat)"
   ]
  },
  {
   "cell_type": "markdown",
   "metadata": {
    "id": "ZljfdQM5Af57"
   },
   "source": [
    "### Modelo de Previsão"
   ]
  },
  {
   "cell_type": "markdown",
   "metadata": {
    "id": "ZqdZjoN8iMvt"
   },
   "source": [
    "Metricas de avaliacao"
   ]
  },
  {
   "cell_type": "code",
   "execution_count": null,
   "metadata": {
    "id": "M9Nnyd1yj4dJ"
   },
   "outputs": [],
   "source": [
    "def avaliar_modelo(nome_modelo, y_test, previsao):\n",
    "  r2 = r2_score(y_test, previsao)\n",
    "  RSME = np.sqrt(mean_squared_error(y_test, previsao))\n",
    "  return f'Modelo {nome_modelo}: \\nR2: {r2:.2%}\\nRSME: {RSME:.2f}'"
   ]
  },
  {
   "cell_type": "markdown",
   "metadata": {
    "id": "7Iurpi7tibOV"
   },
   "source": [
    "Modelos para testar\n",
    "- random forest\n",
    "- linear regression\n",
    "- extra trees"
   ]
  },
  {
   "cell_type": "code",
   "execution_count": null,
   "metadata": {
    "id": "QuwU3TVEiQM1"
   },
   "outputs": [],
   "source": [
    "modelo_rf = RandomForestRegressor()\n",
    "modelo_lr = LinearRegression()\n",
    "modelo_et = ExtraTreesRegressor()\n",
    "\n",
    "modelos = {'LinearRegression': modelo_lr, 'RandomForest': modelo_rf, 'ExtraTrees': modelo_et}\n",
    "\n",
    "\n",
    "y = base_airbnb_encoded['price']\n",
    "x = base_airbnb_encoded.drop('price', axis=1)"
   ]
  },
  {
   "cell_type": "markdown",
   "metadata": {
    "id": "Xm3aD63frGTP"
   },
   "source": [
    " - separar train e test"
   ]
  },
  {
   "cell_type": "code",
   "execution_count": null,
   "metadata": {
    "id": "ASfPMkDuAf58"
   },
   "outputs": [],
   "source": [
    "x_train, x_test, y_train, y_test = train_test_split(x, y, random_state=10)"
   ]
  },
  {
   "cell_type": "code",
   "execution_count": null,
   "metadata": {
    "colab": {
     "base_uri": "https://localhost:8080/"
    },
    "executionInfo": {
     "elapsed": 781992,
     "status": "ok",
     "timestamp": 1638031282109,
     "user": {
      "displayName": "Gabriel Santos",
      "photoUrl": "https://lh3.googleusercontent.com/a/default-user=s64",
      "userId": "02666169007111202252"
     },
     "user_tz": 180
    },
    "id": "Uh61Y4F8ud-m",
    "outputId": "cf595480-a751-4a59-aed2-b3584d716934"
   },
   "outputs": [],
   "source": [
    "for nome_modelo, modelo in modelos.items():\n",
    "  #train\n",
    " modelo.fit(x_train, y_train)\n",
    "  #test\n",
    " previsao = modelo.predict(x_test)\n",
    " print(avaliar_modelo(nome_modelo, y_test, previsao))\n",
    " print('-'*30)"
   ]
  },
  {
   "cell_type": "markdown",
   "metadata": {
    "id": "nioGEzqfGNVb"
   },
   "source": [
    "R2 demonstra a capacidade do modelo de prever o preço\n",
    "\n",
    "\n",
    "RSME demonstra a taxa de erro nas previsões do modelo para alguns valores\n",
    "\n",
    "Extra Trees é o melhor modelo"
   ]
  },
  {
   "cell_type": "markdown",
   "metadata": {
    "id": "K2G-dDsFAf5-"
   },
   "source": [
    "### Ajustes e Melhorias no Melhor Modelo"
   ]
  },
  {
   "cell_type": "code",
   "execution_count": null,
   "metadata": {
    "id": "OnGhjzS3Af5-"
   },
   "outputs": [],
   "source": [
    "#vizualizar a importancia de cada feature\n",
    "features_importance = pd.DataFrame(modelo_et.feature_importances_, x_train.columns) #metodo feature_importances_\n",
    "features_importance = features_importance.sort_values(by = 0, ascending = False)\n",
    "plt.figure(figsize = (15, 5))\n",
    "ax = sns.barplot(x = features_importance.index, y = features_importance[0])\n",
    "ax.tick_params(axis = 'x', rotation = 90)"
   ]
  },
  {
   "cell_type": "markdown",
   "metadata": {
    "id": "sHbi-NTtOgH-"
   },
   "source": [
    "Ajustes finais\n",
    "\n",
    "Retirando is business travel ready"
   ]
  },
  {
   "cell_type": "markdown",
   "metadata": {
    "id": "a8CWgTqORJcY"
   },
   "source": [
    "Resultado Anterior\n",
    "\n",
    "Modelo ExtraTrees: <br>\n",
    "R2: 97.51% <br>\n",
    "RSME: 41.56 <br>"
   ]
  },
  {
   "cell_type": "code",
   "execution_count": null,
   "metadata": {
    "id": "7g36nts_Os-Q"
   },
   "outputs": [],
   "source": [
    "base_airbnb_encoded = base_airbnb_encoded.drop('is_business_travel_ready', axis=1)\n",
    "\n",
    "y = base_airbnb_encoded['price']\n",
    "x = base_airbnb_encoded.drop('price', axis = 1)\n",
    "\n",
    "x_train, x_test, y_train, y_test = train_test_split(x, y, random_state=10)\n",
    "\n",
    "modelo_et.fit(x_train, y_train)\n",
    "previsao = modelo_et.predict(x_test)\n",
    "print(avaliar_modelo('ExtraTrees', y_test, previsao))"
   ]
  },
  {
   "cell_type": "markdown",
   "metadata": {
    "id": "LL5buYSsU-Ei"
   },
   "source": [
    "Retirando bed type"
   ]
  },
  {
   "cell_type": "code",
   "execution_count": null,
   "metadata": {
    "id": "_WvFmBj8T5oV"
   },
   "outputs": [],
   "source": [
    "base_teste = base_airbnb_encoded.copy()\n",
    "for i in base_teste:\n",
    "  if 'bed_type' in i:\n",
    "    base_teste = base_teste.drop(i, axis = 1)\n",
    "\n",
    "y = base_teste['price']\n",
    "x = base_teste.drop('price', axis = 1)\n",
    "\n",
    "x_train, x_test, y_train, y_test = train_test_split(x, y, random_state=10)\n",
    "\n",
    "modelo_et.fit(x_train, y_train)\n",
    "previsao = modelo_et.predict(x_test)\n",
    "print(avaliar_modelo('ExtraTrees', y_test, previsao))"
   ]
  },
  {
   "cell_type": "markdown",
   "metadata": {
    "id": "UJFXYggE310U"
   },
   "source": [
    "### Criar modelo direto (mais rapido)"
   ]
  },
  {
   "cell_type": "code",
   "execution_count": null,
   "metadata": {
    "colab": {
     "base_uri": "https://localhost:8080/"
    },
    "executionInfo": {
     "elapsed": 82193,
     "status": "ok",
     "timestamp": 1637455147440,
     "user": {
      "displayName": "Gabriel Santos",
      "photoUrl": "https://lh3.googleusercontent.com/a/default-user=s64",
      "userId": "02666169007111202252"
     },
     "user_tz": 180
    },
    "id": "ZTvtW8Gb2Rqf",
    "outputId": "b533e04a-c50d-411a-8f3b-f34ab89f287b"
   },
   "outputs": [],
   "source": [
    "# base_airbnb_encoded = base_airbnb_encoded.drop('is_business_travel_ready', axis=1)\n",
    "# base_teste = base_airbnb_encoded.copy()\n",
    "# for i in base_teste:\n",
    "#   if 'bed_type' in i:\n",
    "#     base_teste = base_teste.drop(i, axis = 1)\n",
    "\n",
    "# y = base_teste['price']\n",
    "# x = base_teste.drop('price', axis = 1)\n",
    "\n",
    "# x_train, x_test, y_train, y_test = train_test_split(x, y, random_state=10)\n",
    "\n",
    "# modelo_et.fit(x_train, y_train)\n",
    "# previsao = modelo_et.predict(x_test)\n",
    "# print(avaliar_modelo('ExtraTrees', y_test, previsao))"
   ]
  },
  {
   "cell_type": "markdown",
   "metadata": {
    "id": "qHqu06niNJ3i"
   },
   "source": [
    "### Deploy"
   ]
  },
  {
   "cell_type": "code",
   "execution_count": null,
   "metadata": {
    "id": "PbjwxSwsNNhb"
   },
   "outputs": [],
   "source": [
    "x['price'] = y\n",
    "x.to_csv('dados.csv')"
   ]
  },
  {
   "cell_type": "code",
   "execution_count": null,
   "metadata": {
    "colab": {
     "base_uri": "https://localhost:8080/"
    },
    "executionInfo": {
     "elapsed": 60529,
     "status": "ok",
     "timestamp": 1637457383892,
     "user": {
      "displayName": "Gabriel Santos",
      "photoUrl": "https://lh3.googleusercontent.com/a/default-user=s64",
      "userId": "02666169007111202252"
     },
     "user_tz": 180
    },
    "id": "fVNC7GS7OrBe",
    "outputId": "74ac7bbd-9b54-4e24-e2c5-6f93648d820b"
   },
   "outputs": [],
   "source": [
    "\n",
    "joblib.dump(modelo_et, 'modelo.joblib', compress = 3)"
   ]
  }
 ],
 "metadata": {
  "colab": {
   "collapsed_sections": [],
   "name": "Cópia de Projeto_Airbnb_Rio_Google_Collab.ipynb",
   "provenance": []
  },
  "kernelspec": {
   "display_name": "Python 3",
   "language": "python",
   "name": "python3"
  },
  "language_info": {
   "codemirror_mode": {
    "name": "ipython",
    "version": 3
   },
   "file_extension": ".py",
   "mimetype": "text/x-python",
   "name": "python",
   "nbconvert_exporter": "python",
   "pygments_lexer": "ipython3",
   "version": "3.8.8"
  }
 },
 "nbformat": 4,
 "nbformat_minor": 1
}
